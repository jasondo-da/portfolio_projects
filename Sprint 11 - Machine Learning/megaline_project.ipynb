{
 "cells": [
  {
   "cell_type": "markdown",
   "metadata": {},
   "source": [
    "# Megaline Mobile Carrier Machine Learning Model <a id='back'></a>\n",
    "\n",
    "## Table of Contents\n",
    "\n",
    "- [Project Introduction](#project-introduction)\n",
    "    - [Analysis Outline](#analysis-outline)\n",
    "    - [Results](#results)\n",
    "- [Importing Files and Libraries](#importing-files-and-libraries)\n",
    "- [Pre-processing Data](#pre-processing-data)\n",
    "- [Model Accuracy Training and Validation Set Analysis](#model-accuracy-training-and-validation-set-analysis)\n",
    "    - [Decision Tree Model](#decision-tree-model)\n",
    "    - [Random Forest Model](#random-forest-model)\n",
    "    - [Logistic Regression Model](#logistic-regression-model)\n",
    "    - [Model Comparison using Test Set](#model-comparison-using-test-set)\n",
    "- [Sanity Check](#sanity-check)\n",
    "- [Conclusion](#conclusion)"
   ]
  },
  {
   "cell_type": "markdown",
   "metadata": {},
   "source": [
    "### Project Introduction\n",
    "\n",
    "- Mobile carrier Megaline has found out that many of their subscribers use legacy plans. They want to develop a model that would analyze subscribers' behavior and recommend one of Megaline's newer plans: Smart or Ultra. \n",
    "\n",
    "- You have access to behavior data about subscribers who have already switched to the new plans (from the project for the Statistical Data Analysis course). For this classification task, you need to develop a model that will pick the right plan.\n",
    "\n",
    "- The project goal is to develop a model with the highest possible accuracy for our client Megaline a popular mobile carrier. For this project, our client is expecting an accuracy threshold of at least 0.75."
   ]
  },
  {
   "cell_type": "markdown",
   "metadata": {},
   "source": [
    "### Analysis Outline\n",
    "\n",
    "- Split the source data into a training set, a validation set, and a test set.\n",
    "\n",
    "- Investigate the quality of different models by changing hyperparameters. Briefly describe the findings of the study.\n",
    "\n",
    "- Check the quality of the model using the test set.\n",
    "\n",
    "- Sanity check the model."
   ]
  },
  {
   "cell_type": "markdown",
   "metadata": {},
   "source": [
    "### Results\n",
    "\n",
    "• Used pandas, sklearn, and matplotlib libraries to create machine learning models\n",
    "\n",
    "• Split the sample data into a training set, a validation set, and a test set\n",
    "\n",
    "• Investigated the quality of different models by changing hyperparameters of each model\n",
    "\n",
    "• Checked the quality of the model using the test set\n",
    "\n",
    "• Sanity checked each model type"
   ]
  },
  {
   "cell_type": "markdown",
   "metadata": {},
   "source": [
    "[Back to Table of Contents](#back)"
   ]
  },
  {
   "cell_type": "markdown",
   "metadata": {},
   "source": [
    "## Importing Files and Libraries"
   ]
  },
  {
   "cell_type": "code",
   "execution_count": 26,
   "metadata": {
    "trusted": false
   },
   "outputs": [],
   "source": [
    "# Importing libraries that will be used for this analysis\n",
    "import pandas as pd\n",
    "from matplotlib import pyplot as plt\n",
    "\n",
    "from sklearn.model_selection import train_test_split\n",
    "from sklearn.tree import DecisionTreeClassifier\n",
    "from sklearn.ensemble import RandomForestClassifier\n",
    "from sklearn.linear_model import LogisticRegression \n",
    "from sklearn.metrics import accuracy_score\n",
    "from sklearn.dummy import DummyClassifier"
   ]
  },
  {
   "cell_type": "code",
   "execution_count": 2,
   "metadata": {
    "trusted": false
   },
   "outputs": [],
   "source": [
    "# Importing csv file\n",
    "try:\n",
    "    users_behavior = pd.read_csv('users_behavior.csv', sep=',')\n",
    "except:\n",
    "    users_behavior = pd.read_csv('/datasets/users_behavior.csv', sep=',')"
   ]
  },
  {
   "cell_type": "markdown",
   "metadata": {},
   "source": [
    "[Back to Table of Contents](#back)"
   ]
  },
  {
   "cell_type": "markdown",
   "metadata": {},
   "source": [
    "## Pre-processing Data"
   ]
  },
  {
   "cell_type": "code",
   "execution_count": 3,
   "metadata": {
    "trusted": false
   },
   "outputs": [
    {
     "name": "stdout",
     "output_type": "stream",
     "text": [
      "<class 'pandas.core.frame.DataFrame'>\n",
      "RangeIndex: 3214 entries, 0 to 3213\n",
      "Data columns (total 5 columns):\n",
      " #   Column    Non-Null Count  Dtype  \n",
      "---  ------    --------------  -----  \n",
      " 0   calls     3214 non-null   float64\n",
      " 1   minutes   3214 non-null   float64\n",
      " 2   messages  3214 non-null   float64\n",
      " 3   mb_used   3214 non-null   float64\n",
      " 4   is_ultra  3214 non-null   int64  \n",
      "dtypes: float64(4), int64(1)\n",
      "memory usage: 125.7 KB\n"
     ]
    }
   ],
   "source": [
    "users_behavior.info()"
   ]
  },
  {
   "cell_type": "code",
   "execution_count": 4,
   "metadata": {
    "trusted": false
   },
   "outputs": [
    {
     "data": {
      "text/plain": [
       "Index(['calls', 'minutes', 'messages', 'mb_used', 'is_ultra'], dtype='object')"
      ]
     },
     "execution_count": 4,
     "metadata": {},
     "output_type": "execute_result"
    }
   ],
   "source": [
    "# Checking for snakecase format in header\n",
    "users_behavior.columns"
   ]
  },
  {
   "cell_type": "code",
   "execution_count": 5,
   "metadata": {
    "trusted": false
   },
   "outputs": [
    {
     "data": {
      "text/plain": [
       "0"
      ]
     },
     "execution_count": 5,
     "metadata": {},
     "output_type": "execute_result"
    }
   ],
   "source": [
    "# Looking for duplicates\n",
    "users_behavior.duplicated().sum()"
   ]
  },
  {
   "cell_type": "code",
   "execution_count": 6,
   "metadata": {
    "trusted": false
   },
   "outputs": [
    {
     "data": {
      "text/plain": [
       "calls       0\n",
       "minutes     0\n",
       "messages    0\n",
       "mb_used     0\n",
       "is_ultra    0\n",
       "dtype: int64"
      ]
     },
     "execution_count": 6,
     "metadata": {},
     "output_type": "execute_result"
    }
   ],
   "source": [
    "# Looking for null values\n",
    "users_behavior.isnull().sum()"
   ]
  },
  {
   "cell_type": "code",
   "execution_count": 7,
   "metadata": {
    "trusted": false
   },
   "outputs": [
    {
     "name": "stdout",
     "output_type": "stream",
     "text": [
      "(1928, 5)\n",
      "(643, 5)\n",
      "(643, 5)\n"
     ]
    }
   ],
   "source": [
    "# Splitting our data into a training set, a testing set, and a validation set for our machine learning model set at a 3:1:1 ratio using the train_test_split function. \n",
    "ub_train_valid, ub_test = train_test_split(users_behavior, test_size=0.20, random_state=12345)\n",
    "ub_train, ub_valid = train_test_split(ub_train_valid, test_size=0.25, random_state=12345)\n",
    "print(ub_train.shape)\n",
    "print(ub_valid.shape)\n",
    "print(ub_test.shape)"
   ]
  },
  {
   "cell_type": "code",
   "execution_count": 8,
   "metadata": {},
   "outputs": [
    {
     "data": {
      "text/plain": [
       "0    1339\n",
       "1     589\n",
       "Name: is_ultra, dtype: int64"
      ]
     },
     "execution_count": 8,
     "metadata": {},
     "output_type": "execute_result"
    }
   ],
   "source": [
    "ub_train['is_ultra'].value_counts()"
   ]
  },
  {
   "cell_type": "markdown",
   "metadata": {},
   "source": [
    "Our training set has 60% of the total data (1928/3214) and each of the validation set and test set will have 20% of the total data (643/3214)"
   ]
  },
  {
   "cell_type": "code",
   "execution_count": 9,
   "metadata": {
    "trusted": false
   },
   "outputs": [],
   "source": [
    "# Separating our target columns from the feature columns of each analysis groups\n",
    "features_train = ub_train.drop(['is_ultra'], axis=1)\n",
    "target_train = ub_train['is_ultra']\n",
    "\n",
    "features_valid = ub_valid.drop(['is_ultra'], axis=1)\n",
    "target_valid = ub_valid['is_ultra']\n",
    "\n",
    "features_test = ub_test.drop(['is_ultra'], axis=1)\n",
    "target_test = ub_test['is_ultra']"
   ]
  },
  {
   "cell_type": "markdown",
   "metadata": {},
   "source": [
    "[Back to Table of Contents](#back)"
   ]
  },
  {
   "cell_type": "markdown",
   "metadata": {},
   "source": [
    "## Model Accuracy Training and Validation Set Analysis\n",
    "\n",
    "### Decision Tree Model"
   ]
  },
  {
   "cell_type": "code",
   "execution_count": 10,
   "metadata": {},
   "outputs": [],
   "source": [
    "# Creating a function that can calculate the accuracy score for a decision tree based on its max_depth parameter\n",
    "def dectree (depth):\n",
    "    tree_model = DecisionTreeClassifier(random_state=12345, max_depth=depth)\n",
    "    tree_model.fit(features_train, target_train)\n",
    "    predictions_valid = tree_model.predict(features_valid)\n",
    "    return accuracy_score(target_valid, predictions_valid)"
   ]
  },
  {
   "cell_type": "code",
   "execution_count": 28,
   "metadata": {
    "trusted": false
   },
   "outputs": [
    {
     "name": "stdout",
     "output_type": "stream",
     "text": [
      "          1         2         3         4         5\n",
      "0  0.738725  0.757387  0.765163  0.763608  0.758942\n"
     ]
    }
   ],
   "source": [
    "# Using the new fuction to create a dataframe to later create a graphic on the accuracy score of every variation\n",
    "dt = pd.DataFrame({1: [dectree(1)],\n",
    "                   2: [dectree(2)],\n",
    "                   3: [dectree(3)],\n",
    "                   4: [dectree(4)],\n",
    "                   5: [dectree(5)]})\n",
    "print(dt)"
   ]
  },
  {
   "cell_type": "code",
   "execution_count": 12,
   "metadata": {
    "trusted": false
   },
   "outputs": [
    {
     "data": {
      "image/png": "[encoded data removed]",
      "text/plain": [
       "<Figure size 640x480 with 1 Axes>"
      ]
     },
     "metadata": {},
     "output_type": "display_data"
    }
   ],
   "source": [
    "# Plotting the decision tree model scores\n",
    "dt.plot(kind='bar',\n",
    "        title='Decision Tree Model Accuracy Score',\n",
    "        ylim=0.65,\n",
    "        xlabel='Max Depth',\n",
    "        ylabel='Accuracy Score',\n",
    "        edgecolor='black')\n",
    "plt.axhline(y=0.75,\n",
    "            color='black',\n",
    "            linestyle='--')\n",
    "plt.text(-0.35, 0.753,\n",
    "         'Minimum Threshold',\n",
    "         wrap=True,\n",
    "         horizontalalignment='center',\n",
    "         fontsize=8.5)\n",
    "plt.legend(title='Max Depth',\n",
    "           fontsize=8.25,\n",
    "           loc='upper right')\n",
    "plt.grid(axis='y')\n",
    "plt.show()"
   ]
  },
  {
   "cell_type": "markdown",
   "metadata": {},
   "source": [
    "Based the decision tree model, it shows that max_depth of 3 would yield the highest accuacy score that also met the 0.75 threshold. At a max_depth less than 3 the data would be underfitted and over 3 would be overfitted."
   ]
  },
  {
   "cell_type": "markdown",
   "metadata": {},
   "source": [
    "[Back to Table of Contents](#back)"
   ]
  },
  {
   "cell_type": "markdown",
   "metadata": {},
   "source": [
    "### Random Forest Model"
   ]
  },
  {
   "cell_type": "code",
   "execution_count": 13,
   "metadata": {
    "trusted": false
   },
   "outputs": [],
   "source": [
    "# For the random forest model we will change the max_depth value to the n_estimators value to find the highest accuracy score for this model\n",
    "def ranforest (est):\n",
    "    rforest_model = RandomForestClassifier(random_state=12345, n_estimators=est)\n",
    "    rforest_model.fit(features_train, target_train)\n",
    "    score = rforest_model.score(features_valid, target_valid)\n",
    "    return score"
   ]
  },
  {
   "cell_type": "code",
   "execution_count": 27,
   "metadata": {
    "trusted": false
   },
   "outputs": [
    {
     "name": "stdout",
     "output_type": "stream",
     "text": [
      "         1         2         3         4         5         6         7   \\\n",
      "0  0.702955  0.757387  0.744946  0.765163  0.762053  0.769829  0.771384   \n",
      "\n",
      "         8         9         10        11        12        13        14  \\\n",
      "0  0.786936  0.783826  0.788491  0.780715  0.782271  0.777605  0.785381   \n",
      "\n",
      "         15  \n",
      "0  0.783826  \n"
     ]
    }
   ],
   "source": [
    "# Creating a dataframe to chart the scores from the random forest model\n",
    "rf = pd.DataFrame({1: [ranforest(1)],\n",
    "                   2: [ranforest(2)],\n",
    "                   3: [ranforest(3)],\n",
    "                   4: [ranforest(4)],\n",
    "                   5: [ranforest(5)],\n",
    "                   6: [ranforest(6)],\n",
    "                   7: [ranforest(7)],\n",
    "                   8: [ranforest(8)],\n",
    "                   9: [ranforest(9)],\n",
    "                   10: [ranforest(10)],\n",
    "                   11: [ranforest(11)],\n",
    "                   12: [ranforest(12)],\n",
    "                   13: [ranforest(13)],\n",
    "                   14: [ranforest(14)],\n",
    "                   15: [ranforest(15)]})\n",
    "print(rf)"
   ]
  },
  {
   "cell_type": "code",
   "execution_count": 15,
   "metadata": {
    "trusted": false
   },
   "outputs": [
    {
     "data": {
      "image/png": "[encoded data removed]",
      "text/plain": [
       "<Figure size 640x480 with 1 Axes>"
      ]
     },
     "metadata": {},
     "output_type": "display_data"
    }
   ],
   "source": [
    "# Plotting random forest model scores\n",
    "rf.plot(kind='bar',\n",
    "        title='Random Forest Model Score',\n",
    "        ylim=0.65,\n",
    "        ylabel='Score',\n",
    "        edgecolor='black')\n",
    "plt.axhline(y=0.75, color='black', linestyle='--')\n",
    "plt.text(-0.35, 0.753, 'Minimum Threshold', wrap=True, horizontalalignment='center', fontsize=8.5)\n",
    "plt.legend(title='N Estimator',\n",
    "           fontsize=\"8.25\",\n",
    "           loc=(1.01, 0.225))\n",
    "plt.grid(axis='y')\n",
    "plt.show()"
   ]
  },
  {
   "cell_type": "markdown",
   "metadata": {},
   "source": [
    "Based the random forest model, it shows the highest score so far and the best n_estimator value would be 10. Any value under 10 would be noticably underfitting and values over 10 would be overfitting."
   ]
  },
  {
   "cell_type": "markdown",
   "metadata": {},
   "source": [
    "[Back to Table of Contents](#back)"
   ]
  },
  {
   "cell_type": "markdown",
   "metadata": {},
   "source": [
    "### Logistic Regression Model"
   ]
  },
  {
   "cell_type": "code",
   "execution_count": 16,
   "metadata": {
    "trusted": false
   },
   "outputs": [],
   "source": [
    "# Creating a function to calculate the accuracy score using LogisticRegression\n",
    "logr_model = LogisticRegression(random_state=12345, solver='liblinear')\n",
    "logr_model.fit(features_train, target_train) \n",
    "score_train = logr_model.score(features_train, target_train) \n",
    "score_valid = logr_model.score(features_valid, target_valid)"
   ]
  },
  {
   "cell_type": "code",
   "execution_count": 17,
   "metadata": {
    "trusted": false
   },
   "outputs": [],
   "source": [
    "# Creating a dataframe to chart our results from the logistic regression model\n",
    "lr = pd.DataFrame({'training_score': [score_train],\n",
    "                   'valid_score': [score_valid]})"
   ]
  },
  {
   "cell_type": "code",
   "execution_count": 18,
   "metadata": {
    "trusted": false
   },
   "outputs": [
    {
     "data": {
      "image/png": "[encoded data removed]",
      "text/plain": [
       "<Figure size 640x480 with 1 Axes>"
      ]
     },
     "metadata": {},
     "output_type": "display_data"
    }
   ],
   "source": [
    "# Plotting logistic regression model\n",
    "lr.plot(kind='bar',\n",
    "        title='Logistic Regression Model Score',\n",
    "        ylim=0.65,\n",
    "        ylabel='Score',\n",
    "        edgecolor='black')\n",
    "plt.yticks([0.65, 0.675, 0.7, 0.725, 0.75, 0.775, 0.8])\n",
    "plt.axhline(y=0.75, color='black', linestyle='--')\n",
    "plt.text(-0.35, 0.753, 'Minimum Threshold', wrap=True, horizontalalignment='center', fontsize=8.5)\n",
    "plt.legend(title='Data Set',\n",
    "           loc='upper right')\n",
    "plt.grid(axis='y')\n",
    "plt.show()"
   ]
  },
  {
   "cell_type": "markdown",
   "metadata": {},
   "source": [
    "Based on the training and validation sets, the logistic regression model showed the lowest accuracy values when compared to the previous models. The logistic regression model did not reach the threshold of 0.75 accuracy in either the training set or the validation set."
   ]
  },
  {
   "cell_type": "markdown",
   "metadata": {},
   "source": [
    "[Back to Table of Contents](#back)"
   ]
  },
  {
   "cell_type": "markdown",
   "metadata": {},
   "source": [
    "### Model Comparison using Test Set"
   ]
  },
  {
   "cell_type": "code",
   "execution_count": 19,
   "metadata": {
    "trusted": false
   },
   "outputs": [
    {
     "name": "stdout",
     "output_type": "stream",
     "text": [
      "Decision Tree Model Accuracy Score = 0.787\n"
     ]
    }
   ],
   "source": [
    "# Now we use the same models as before except now we use the test dataset instead of the valid dataset\n",
    "dtree_model = DecisionTreeClassifier(random_state=12345, max_depth=3)\n",
    "dtree_model.fit(features_train, target_train)\n",
    "predictions_test = dtree_model.predict(features_test)\n",
    "dt_score = accuracy_score(target_test, predictions_test)\n",
    "print('Decision Tree Model Accuracy Score =', dt_score.round(3))"
   ]
  },
  {
   "cell_type": "code",
   "execution_count": null,
   "metadata": {
    "trusted": false
   },
   "outputs": [
    {
     "name": "stdout",
     "output_type": "stream",
     "text": [
      "Random Forest Model Accuracy Score = 0.792\n"
     ]
    }
   ],
   "source": [
    "# Using the test dataset instead of the valid dataset\n",
    "rforest_model = RandomForestClassifier(random_state=12345, n_estimators=10)\n",
    "rforest_model.fit(features_train, target_train)\n",
    "rf_score = rforest_model.score(features_test, target_test)\n",
    "print('Random Forest Model Accuracy Score =', rf_score.round(3))"
   ]
  },
  {
   "cell_type": "code",
   "execution_count": 21,
   "metadata": {
    "trusted": false
   },
   "outputs": [
    {
     "name": "stdout",
     "output_type": "stream",
     "text": [
      "Logistic Regression Model Accuracy Score = 0.701\n"
     ]
    }
   ],
   "source": [
    "# Using the test dataset instead of the valid dataset\n",
    "score_test = logr_model.score(features_test, target_test)\n",
    "print('Logistic Regression Model Accuracy Score =', score_test.round(3))"
   ]
  },
  {
   "cell_type": "code",
   "execution_count": 22,
   "metadata": {
    "trusted": false
   },
   "outputs": [],
   "source": [
    "# Creating a dataframe with all the model test set results\n",
    "model_compare = pd.DataFrame({'Decision Tree': [dt_score],\n",
    "                              'Random Forest': [rf_score],\n",
    "                              'Logistic Regression': [score_test]})"
   ]
  },
  {
   "cell_type": "code",
   "execution_count": null,
   "metadata": {
    "trusted": false
   },
   "outputs": [
    {
     "data": {
      "image/png": "[encoded data removed]",
      "text/plain": [
       "<Figure size 640x480 with 1 Axes>"
      ]
     },
     "metadata": {},
     "output_type": "display_data"
    }
   ],
   "source": [
    "# Plotting the model test data\n",
    "model_compare.plot(kind='bar',\n",
    "        title='Test Set Model Results',\n",
    "        ylim=0.65,\n",
    "        ylabel='Accuracy Score',\n",
    "        edgecolor='black')\n",
    "plt.axhline(y=0.75, color='black', linestyle='--')\n",
    "plt.text(-0.375, 0.753, 'Minimum Threshold', wrap=True, horizontalalignment='center', fontsize=8.5)\n",
    "plt.legend(title='Model Types',\n",
    "           loc='upper right')\n",
    "plt.grid(axis='y')\n",
    "plt.show()"
   ]
  },
  {
   "cell_type": "markdown",
   "metadata": {},
   "source": [
    "Based on the test data sets, the random forest model did the best with an accuracy score higher than the 0.75 threshold. The logistic regression model did very poorly compared to the others with an accuracy score well below the 0.75 threshold."
   ]
  },
  {
   "cell_type": "markdown",
   "metadata": {},
   "source": [
    "[Back to Table of Contents](#back)"
   ]
  },
  {
   "cell_type": "markdown",
   "metadata": {},
   "source": [
    "## Sanity Check"
   ]
  },
  {
   "cell_type": "code",
   "execution_count": 24,
   "metadata": {},
   "outputs": [
    {
     "name": "stdout",
     "output_type": "stream",
     "text": [
      "0.695\n"
     ]
    }
   ],
   "source": [
    "# Executing sanity check\n",
    "dummy_clf = DummyClassifier(strategy='most_frequent')\n",
    "dummy_clf.fit(features_train, target_train)\n",
    "dummy_score = dummy_clf.score(features_test, target_test)\n",
    "print(dummy_score.round(3))"
   ]
  },
  {
   "cell_type": "code",
   "execution_count": 25,
   "metadata": {
    "trusted": false
   },
   "outputs": [
    {
     "name": "stdout",
     "output_type": "stream",
     "text": [
      "Sanity Check Passed\n"
     ]
    }
   ],
   "source": [
    "# Executing sanity check \n",
    "try:\n",
    "  assert rf_score > dummy_score\n",
    "  print('Sanity Check Passed')\n",
    "except:\n",
    "  print('Sanity Check Failed')"
   ]
  },
  {
   "cell_type": "markdown",
   "metadata": {},
   "source": [
    "Our dummy model outputed a value of 0.69 and shows that this is a baseline of what the minimum accuracy score should be."
   ]
  },
  {
   "cell_type": "markdown",
   "metadata": {},
   "source": [
    "[Back to Table of Contents](#back)"
   ]
  },
  {
   "cell_type": "markdown",
   "metadata": {},
   "source": [
    "## Conclusion"
   ]
  },
  {
   "cell_type": "markdown",
   "metadata": {},
   "source": [
    " In conclusion, the model we have built with the highest accuracy would be the random forest model. From the dummy model, it shows us that the minimum accuracy score we should expect is 0.69. However, the random forest model had a 0.79 accuracy score well above the dummy score of 0.69 and the client expected a minimum score of 0.75. This is to be expected as the random forest model usually has the highest accuracy score when compared to the other model types."
   ]
  },
  {
   "cell_type": "markdown",
   "metadata": {},
   "source": [
    "[Back to Table of Contents](#back)"
   ]
  }
 ],
 "metadata": {
  "kernelspec": {
   "display_name": "base",
   "language": "python",
   "name": "python3"
  },
  "language_info": {
   "codemirror_mode": {
    "name": "ipython",
    "version": 3
   },
   "file_extension": ".py",
   "mimetype": "text/x-python",
   "name": "python",
   "nbconvert_exporter": "python",
   "pygments_lexer": "ipython3",
   "version": "3.10.9"
  },
  "toc": {
   "base_numbering": 1,
   "nav_menu": {},
   "number_sections": true,
   "sideBar": true,
   "skip_h1_title": true,
   "title_cell": "Table of Contents",
   "title_sidebar": "Contents",
   "toc_cell": false,
   "toc_position": {},
   "toc_section_display": true,
   "toc_window_display": true
  }
 },
 "nbformat": 4,
 "nbformat_minor": 2
}
